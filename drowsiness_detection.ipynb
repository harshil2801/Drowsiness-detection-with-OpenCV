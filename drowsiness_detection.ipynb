{
 "cells": [
  {
   "cell_type": "code",
   "execution_count": 1,
   "id": "framed-night",
   "metadata": {},
   "outputs": [],
   "source": [
    "import dlib\n",
    "import cv2\n",
    "import numpy as np\n",
    "import argparse\n",
    "import imutils\n",
    "from scipy.spatial import distance as dist\n",
    "from imutils.video import VideoStream\n",
    "from imutils import face_utils"
   ]
  },
  {
   "cell_type": "code",
   "execution_count": 2,
   "id": "geological-waters",
   "metadata": {},
   "outputs": [],
   "source": [
    "def eye_aspect_ratio(eye):\n",
    "    A = dist.euclidean(eye[1],eye[5])\n",
    "    B = dist.euclidean(eye[2],eye[4])\n",
    "    \n",
    "    C = dist.euclidean(eye[0],eye[3])\n",
    "    aspect_ratio = (A+B)/(2.0*C)\n",
    "    return aspect_ratio"
   ]
  },
  {
   "cell_type": "code",
   "execution_count": 3,
   "id": "thousand-october",
   "metadata": {},
   "outputs": [],
   "source": [
    "# shape_predictor_68_face_landmarks.dat"
   ]
  },
  {
   "cell_type": "code",
   "execution_count": 4,
   "id": "republican-leone",
   "metadata": {},
   "outputs": [],
   "source": [
    "threshold = 0.25\n",
    "frames = 20\n",
    "detect = dlib.get_frontal_face_detector()\n",
    "predict = dlib.shape_predictor('shape_predictor_68_face_landmarks.dat')"
   ]
  },
  {
   "cell_type": "code",
   "execution_count": 5,
   "id": "outer-nebraska",
   "metadata": {},
   "outputs": [],
   "source": [
    "(lStart, lEnd) = face_utils.FACIAL_LANDMARKS_IDXS['left_eye']\n",
    "(rStart, rEnd) = face_utils.FACIAL_LANDMARKS_IDXS['right_eye']"
   ]
  },
  {
   "cell_type": "code",
   "execution_count": 6,
   "id": "overall-screw",
   "metadata": {},
   "outputs": [],
   "source": [
    "cap = cv2.VideoCapture(0)\n",
    "flag = 0\n",
    "while True:\n",
    "    ret, frame = cap.read()\n",
    "    frame = imutils.resize(frame, width=450)\n",
    "    gray = cv2.cvtColor(frame, cv2.COLOR_BGR2GRAY)\n",
    "    subjects = detect(gray, 0)\n",
    "    for subject in subjects:\n",
    "        shape = predict(gray,subject)\n",
    "        shape = face_utils.shape_to_np(shape)\n",
    "        leftEye = shape[lStart:lEnd]\n",
    "        rightEye = shape[rStart:rEnd]\n",
    "        left_aspect_ratio = eye_aspect_ratio(leftEye)\n",
    "        right_aspect_ratio = eye_aspect_ratio(rightEye)\n",
    "        aspect_ratio = (left_aspect_ratio + right_aspect_ratio)/2.0\n",
    "        leftEyeHull = cv2.convexHull(leftEye)\n",
    "        rightEyeHull = cv2.convexHull(rightEye)\n",
    "        cv2.drawContours(frame, [leftEyeHull], -1, (0, 255, 0), 1)\n",
    "        cv2.drawContours(frame, [rightEyeHull], -1, (0, 255, 0), 1)\n",
    "        if aspect_ratio < threshold:\n",
    "            flag+=1\n",
    "            if flag>=frames:\n",
    "                cv2.put_text(frame,'Alert!!!!',(15,25),cv2.FONT_HERSHEY_SIMPLEX,1,(0,0,255),1)\n",
    "            else:\n",
    "                flag = 0\n",
    "    cv2.imshow(\"Frame\", frame)\n",
    "    key = cv2.waitKey(1) & 0xFF\n",
    "    if key == ord(\"q\"):\n",
    "        cv2.destroyAllWindows()\n",
    "        cap.release()\n",
    "        break"
   ]
  },
  {
   "cell_type": "code",
   "execution_count": 8,
   "id": "arabic-affiliation",
   "metadata": {},
   "outputs": [],
   "source": [
    "def drowsiness_detector(file):\n",
    "    image = cv2.imread(file)\n",
    "    image = cv2.resize(image,(500,500))\n",
    "    gray = cv2.cvtColor(image, cv2.COLOR_BGR2GRAY)\n",
    "    subjects = detect(gray, 0)\n",
    "    for subject in subjects:\n",
    "        shape = predict(gray,subject)\n",
    "        shape = face_utils.shape_to_np(shape)\n",
    "        leftEye = shape[lStart:lEnd]\n",
    "        rightEye = shape[rStart:rEnd]\n",
    "        left_aspect_ratio = eye_aspect_ratio(leftEye)\n",
    "        right_aspect_ratio = eye_aspect_ratio(rightEye)\n",
    "        aspect_ratio = (left_aspect_ratio + right_aspect_ratio)/2.0\n",
    "        leftEyeHull = cv2.convexHull(leftEye)\n",
    "        rightEyeHull = cv2.convexHull(rightEye)\n",
    "        cv2.drawContours(image, [leftEyeHull], -1, (0, 255, 0), 1)\n",
    "        cv2.drawContours(image, [rightEyeHull], -1, (0, 255, 0), 1)\n",
    "        if aspect_ratio < threshold:\n",
    "            cv2.putText(image,'Alert!!!!',(15,25),cv2.FONT_HERSHEY_SIMPLEX,1,(0,0,255),1)\n",
    "            cv2.putText(image,str(aspect_ratio),(15,50),cv2.FONT_HERSHEY_SIMPLEX,1,(0,0,255),1)\n",
    "        else:\n",
    "            cv2.putText(image,'All Okay!!!',(15,25),cv2.FONT_HERSHEY_SIMPLEX,1,(0,255,0),1)\n",
    "            cv2.putText(image,str(aspect_ratio),(15,50),cv2.FONT_HERSHEY_SIMPLEX,1,(0,255,0),1)\n",
    "    cv2.imshow(\"Frame\", image)\n",
    "    cv2.waitKey(0)"
   ]
  },
  {
   "cell_type": "code",
   "execution_count": 9,
   "id": "plain-keyboard",
   "metadata": {},
   "outputs": [],
   "source": [
    "drowsiness_detector('sleepy_eyes.jfif')"
   ]
  },
  {
   "cell_type": "code",
   "execution_count": 10,
   "id": "catholic-summer",
   "metadata": {},
   "outputs": [],
   "source": [
    "# non-sleepy.jfif\n",
    "drowsiness_detector('non-sleepy.jfif')"
   ]
  },
  {
   "cell_type": "code",
   "execution_count": null,
   "id": "female-swift",
   "metadata": {},
   "outputs": [],
   "source": []
  }
 ],
 "metadata": {
  "kernelspec": {
   "display_name": "Python 3",
   "language": "python",
   "name": "python3"
  },
  "language_info": {
   "codemirror_mode": {
    "name": "ipython",
    "version": 3
   },
   "file_extension": ".py",
   "mimetype": "text/x-python",
   "name": "python",
   "nbconvert_exporter": "python",
   "pygments_lexer": "ipython3",
   "version": "3.7.9"
  }
 },
 "nbformat": 4,
 "nbformat_minor": 5
}
